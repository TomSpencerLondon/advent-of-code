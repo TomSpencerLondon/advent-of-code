{
 "cells": [
  {
   "cell_type": "code",
   "execution_count": null,
   "id": "4005ba0c-0434-4a9e-afa6-43ae05b31035",
   "metadata": {},
   "outputs": [],
   "source": [
    "left = [3, 4, 2, 1, 3, 3]\n",
    "right = [4, 3, 5, 3, 9, 3]\n",
    "\n",
    "def total_distance(left, right):\n",
    "    left_sorted = "
   ]
  }
 ],
 "metadata": {
  "kernelspec": {
   "display_name": "Python 3 (ipykernel)",
   "language": "python",
   "name": "python3"
  },
  "language_info": {
   "codemirror_mode": {
    "name": "ipython",
    "version": 3
   },
   "file_extension": ".py",
   "mimetype": "text/x-python",
   "name": "python",
   "nbconvert_exporter": "python",
   "pygments_lexer": "ipython3",
   "version": "3.12.0"
  }
 },
 "nbformat": 4,
 "nbformat_minor": 5
}
