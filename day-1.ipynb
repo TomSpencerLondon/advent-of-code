{
 "cells": [
  {
   "cell_type": "code",
   "execution_count": 7,
   "id": "4005ba0c-0434-4a9e-afa6-43ae05b31035",
   "metadata": {},
   "outputs": [
    {
     "name": "stdout",
     "output_type": "stream",
     "text": [
      "Left sorted: [1, 2, 3, 3, 3, 4]\n",
      "Right sorted: [3, 3, 3, 4, 5, 9]\n",
      "Comparisons: [(1, 3), (2, 3), (3, 3), (3, 4), (3, 5), (4, 9)]\n",
      "Distances: [2, 1, 0, 1, 2, 5]\n",
      "11\n"
     ]
    }
   ],
   "source": [
    "left = [3, 4, 2, 1, 3, 3]\n",
    "right = [4, 3, 5, 3, 9, 3]\n",
    "\n",
    "def total_distance(left, right):\n",
    "    left_sorted = sorted(left)\n",
    "    right_sorted = sorted(right)\n",
    "    print(f\"Left sorted: {left_sorted}\")\n",
    "    print(f\"Right sorted: {right_sorted}\")\n",
    "    comparisons = list(zip(left_sorted, right_sorted))\n",
    "    print(f\"Comparisons: {comparisons}\")\n",
    "    distances = [abs(first - second) for first, second in comparisons]\n",
    "    print(f\"Distances: {distances}\")\n",
    "    return sum(distances)\n",
    "\n",
    "print(total_distance(left, right))"
   ]
  },
  {
   "cell_type": "code",
   "execution_count": null,
   "id": "2b457a46-4473-40ab-ae65-51f326c1f88d",
   "metadata": {},
   "outputs": [],
   "source": [
    "import requests\n",
    "\n",
    "# Your session cookie (replace with your actual cookie value)\n",
    "SESSION_COOKIE = \"your_session_cookie_here\"\n",
    "\n",
    "# URL for the input\n",
    "url = \"https://adventofcode.com/2024/day/1/input\"\n",
    "\n",
    "# Set up headers with the session cookie\n",
    "headers = {\n",
    "    \"Cookie\": f\"session={SESSION_COOKIE}\"\n",
    "}\n",
    "\n",
    "# Fetch the input data\n",
    "response = requests.get(url, headers=headers)\n",
    "\n",
    "# Check if the request was successful\n",
    "if response.status_code == 200:\n",
    "    # Split the data into lists if needed\n",
    "    data = response.text.strip()  # Remove any trailing newline or spaces\n",
    "    input_lines = data.split(\"\\n\")  # Split into lines for lists\n",
    "    print(input_lines)\n",
    "else:\n",
    "    print(f\"Failed to fetch input: {response.status_code} - {response.reason}\")\n"
   ]
  }
 ],
 "metadata": {
  "kernelspec": {
   "display_name": "Python 3 (ipykernel)",
   "language": "python",
   "name": "python3"
  },
  "language_info": {
   "codemirror_mode": {
    "name": "ipython",
    "version": 3
   },
   "file_extension": ".py",
   "mimetype": "text/x-python",
   "name": "python",
   "nbconvert_exporter": "python",
   "pygments_lexer": "ipython3",
   "version": "3.12.0"
  }
 },
 "nbformat": 4,
 "nbformat_minor": 5
}
