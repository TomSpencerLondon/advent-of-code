{
 "cells": [
  {
   "cell_type": "code",
   "execution_count": 20,
   "id": "4005ba0c-0434-4a9e-afa6-43ae05b31035",
   "metadata": {},
   "outputs": [
    {
     "name": "stdout",
     "output_type": "stream",
     "text": [
      "11\n"
     ]
    }
   ],
   "source": [
    "left = [3, 4, 2, 1, 3, 3]\n",
    "right = [4, 3, 5, 3, 9, 3]\n",
    "\n",
    "def total_distance(left, right):\n",
    "    left_sorted = sorted(left)\n",
    "    right_sorted = sorted(right)\n",
    "    comparisons = list(zip(left_sorted, right_sorted))\n",
    "    distances = [abs(first - second) for first, second in comparisons]\n",
    "    return sum(distances)\n",
    "\n",
    "print(total_distance(left, right))"
   ]
  },
  {
   "cell_type": "code",
   "execution_count": 21,
   "id": "2b457a46-4473-40ab-ae65-51f326c1f88d",
   "metadata": {},
   "outputs": [],
   "source": [
    "import requests\n",
    "\n",
    "SESSION_COOKIE = \"53616c7465645f5f37c1eddde900620da8cba1d33ffe3015b3c3749f0cec17e1c21cf1c50cf2994edf2e035c2b5b4fb17bda65fc2596cd4e43d81a2b893c01c1\"\n",
    "\n",
    "# URL for the input\n",
    "url = \"https://adventofcode.com/2024/day/1/input\"\n",
    "\n",
    "# Set up headers with the session cookie\n",
    "headers = {\n",
    "    \"Cookie\": f\"session={SESSION_COOKIE}\"\n",
    "}\n",
    "\n",
    "# Fetch the input data\n",
    "response = requests.get(url, headers=headers)\n",
    "left_array = []\n",
    "right_array = []\n",
    "\n",
    "# Check if the request was successful\n",
    "if response.status_code == 200:\n",
    "    data = response.text.strip()\n",
    "    input_lines = data.split(\"\\n\") \n",
    "    for line in input_lines:\n",
    "        left, right = map(int, line.split())\n",
    "        left_array.append(left)\n",
    "        right_array.append(right)\n",
    "else:\n",
    "    print(f\"Failed to fetch input: {response.status_code} - {response.reason}\")\n"
   ]
  },
  {
   "cell_type": "code",
   "execution_count": 28,
   "id": "491d950d-938c-4431-b6a8-3c5f1a7bc4aa",
   "metadata": {},
   "outputs": [
    {
     "name": "stdout",
     "output_type": "stream",
     "text": [
      "765748\n"
     ]
    }
   ],
   "source": [
    "print(total_distance(left_array, right_array))"
   ]
  },
  {
   "cell_type": "code",
   "execution_count": null,
   "id": "47cf661c-b2ee-44ad-ab37-16a2d841d18f",
   "metadata": {},
   "outputs": [],
   "source": []
  },
  {
   "cell_type": "code",
   "execution_count": null,
   "id": "706dfeed-fad7-44a2-8bcd-4c5f9665317d",
   "metadata": {},
   "outputs": [],
   "source": []
  }
 ],
 "metadata": {
  "kernelspec": {
   "display_name": "Python 3 (ipykernel)",
   "language": "python",
   "name": "python3"
  },
  "language_info": {
   "codemirror_mode": {
    "name": "ipython",
    "version": 3
   },
   "file_extension": ".py",
   "mimetype": "text/x-python",
   "name": "python",
   "nbconvert_exporter": "python",
   "pygments_lexer": "ipython3",
   "version": "3.12.0"
  }
 },
 "nbformat": 4,
 "nbformat_minor": 5
}
