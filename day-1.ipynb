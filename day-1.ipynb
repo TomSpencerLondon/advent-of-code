{
 "cells": [
  {
   "cell_type": "code",
   "execution_count": 7,
   "id": "4005ba0c-0434-4a9e-afa6-43ae05b31035",
   "metadata": {},
   "outputs": [
    {
     "name": "stdout",
     "output_type": "stream",
     "text": [
      "Left sorted: [1, 2, 3, 3, 3, 4]\n",
      "Right sorted: [3, 3, 3, 4, 5, 9]\n",
      "Comparisons: [(1, 3), (2, 3), (3, 3), (3, 4), (3, 5), (4, 9)]\n",
      "Distances: [2, 1, 0, 1, 2, 5]\n",
      "11\n"
     ]
    }
   ],
   "source": [
    "left = [3, 4, 2, 1, 3, 3]\n",
    "right = [4, 3, 5, 3, 9, 3]\n",
    "\n",
    "def total_distance(left, right):\n",
    "    left_sorted = sorted(left)\n",
    "    right_sorted = sorted(right)\n",
    "    print(f\"Left sorted: {left_sorted}\")\n",
    "    print(f\"Right sorted: {right_sorted}\")\n",
    "    comparisons = list(zip(left_sorted, right_sorted))\n",
    "    print(f\"Comparisons: {comparisons}\")\n",
    "    distances = [abs(first - second) for first, second in comparisons]\n",
    "    print(f\"Distances: {distances}\")\n",
    "    return sum(distances)\n",
    "\n",
    "print(total_distance(left, right))"
   ]
  },
  {
   "cell_type": "code",
   "execution_count": 10,
   "id": "2b457a46-4473-40ab-ae65-51f326c1f88d",
   "metadata": {},
   "outputs": [
    {
     "ename": "ValueError",
     "evalue": "invalid literal for int() with base 10: '['",
     "output_type": "error",
     "traceback": [
      "\u001b[0;31m---------------------------------------------------------------------------\u001b[0m",
      "\u001b[0;31mValueError\u001b[0m                                Traceback (most recent call last)",
      "Cell \u001b[0;32mIn[10], line 20\u001b[0m\n\u001b[1;32m     17\u001b[0m \u001b[38;5;28;01mif\u001b[39;00m response\u001b[38;5;241m.\u001b[39mstatus_code \u001b[38;5;241m==\u001b[39m \u001b[38;5;241m200\u001b[39m:\n\u001b[1;32m     18\u001b[0m     data \u001b[38;5;241m=\u001b[39m response\u001b[38;5;241m.\u001b[39mtext\u001b[38;5;241m.\u001b[39mstrip()\n\u001b[1;32m     19\u001b[0m     response \u001b[38;5;241m=\u001b[39m [\n\u001b[0;32m---> 20\u001b[0m         \u001b[38;5;28;43mlist\u001b[39;49m\u001b[43m(\u001b[49m\u001b[38;5;28;43mmap\u001b[39;49m\u001b[43m(\u001b[49m\u001b[38;5;28;43mint\u001b[39;49m\u001b[43m,\u001b[49m\u001b[43m \u001b[49m\u001b[38;5;28;43mstr\u001b[39;49m\u001b[43m(\u001b[49m\u001b[43mleft\u001b[49m\u001b[43m)\u001b[49m\u001b[43m)\u001b[49m\u001b[43m)\u001b[49m,\n\u001b[1;32m     21\u001b[0m         \u001b[38;5;28mlist\u001b[39m(\u001b[38;5;28mmap\u001b[39m(\u001b[38;5;28mint\u001b[39m, \u001b[38;5;28mstr\u001b[39m(right)))\n\u001b[1;32m     22\u001b[0m              ]\n\u001b[1;32m     23\u001b[0m     \u001b[38;5;28mprint\u001b[39m(response)\n\u001b[1;32m     24\u001b[0m \u001b[38;5;28;01melse\u001b[39;00m:\n",
      "\u001b[0;31mValueError\u001b[0m: invalid literal for int() with base 10: '['"
     ]
    }
   ],
   "source": [
    "import requests\n",
    "\n",
    "SESSION_COOKIE = \"53616c7465645f5f37c1eddde900620da8cba1d33ffe3015b3c3749f0cec17e1c21cf1c50cf2994edf2e035c2b5b4fb17bda65fc2596cd4e43d81a2b893c01c1\"\n",
    "\n",
    "# URL for the input\n",
    "url = \"https://adventofcode.com/2024/day/1/input\"\n",
    "\n",
    "# Set up headers with the session cookie\n",
    "headers = {\n",
    "    \"Cookie\": f\"session={SESSION_COOKIE}\"\n",
    "}\n",
    "\n",
    "# Fetch the input data\n",
    "response = requests.get(url, headers=headers)\n",
    "\n",
    "# Check if the request was successful\n",
    "if response.status_code == 200:\n",
    "    data = response.text.strip()\n",
    "    input_lines = data.split(\"\\n\") \n",
    "    response = [\n",
    "        list(map(int, str(left))),\n",
    "        list(map(int, str(right)))\n",
    "             ]\n",
    "    print(response)\n",
    "else:\n",
    "    print(f\"Failed to fetch input: {response.status_code} - {response.reason}\")\n"
   ]
  },
  {
   "cell_type": "code",
   "execution_count": null,
   "id": "491d950d-938c-4431-b6a8-3c5f1a7bc4aa",
   "metadata": {},
   "outputs": [],
   "source": []
  }
 ],
 "metadata": {
  "kernelspec": {
   "display_name": "Python 3 (ipykernel)",
   "language": "python",
   "name": "python3"
  },
  "language_info": {
   "codemirror_mode": {
    "name": "ipython",
    "version": 3
   },
   "file_extension": ".py",
   "mimetype": "text/x-python",
   "name": "python",
   "nbconvert_exporter": "python",
   "pygments_lexer": "ipython3",
   "version": "3.12.0"
  }
 },
 "nbformat": 4,
 "nbformat_minor": 5
}
