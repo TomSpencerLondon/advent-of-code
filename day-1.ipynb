{
 "cells": [
  {
   "cell_type": "code",
   "execution_count": 3,
   "id": "4005ba0c-0434-4a9e-afa6-43ae05b31035",
   "metadata": {},
   "outputs": [
    {
     "name": "stdout",
     "output_type": "stream",
     "text": [
      "Left sorted: [1, 2, 3, 3, 3, 4]\n",
      "Right sorted: [3, 3, 3, 4, 5, 9]\n",
      "Comparison array: [<zip object at 0x1123d3a40>]\n",
      "None\n"
     ]
    }
   ],
   "source": [
    "left = [3, 4, 2, 1, 3, 3]\n",
    "right = [4, 3, 5, 3, 9, 3]\n",
    "\n",
    "def total_distance(left, right):\n",
    "    left_sorted = sorted(left)\n",
    "    right_sorted = sorted(right)\n",
    "    print(f\"Left sorted: {left_sorted}\")\n",
    "    print(f\"Right sorted: {right_sorted}\")\n",
    "    comparison_array = [zip(left_sorted, right_sorted)]\n",
    "    print(f\"Comparison array: {comparison_array}\")\n",
    "\n",
    "print(total_distance(left, right))"
   ]
  },
  {
   "cell_type": "code",
   "execution_count": null,
   "id": "2b457a46-4473-40ab-ae65-51f326c1f88d",
   "metadata": {},
   "outputs": [],
   "source": []
  }
 ],
 "metadata": {
  "kernelspec": {
   "display_name": "Python 3 (ipykernel)",
   "language": "python",
   "name": "python3"
  },
  "language_info": {
   "codemirror_mode": {
    "name": "ipython",
    "version": 3
   },
   "file_extension": ".py",
   "mimetype": "text/x-python",
   "name": "python",
   "nbconvert_exporter": "python",
   "pygments_lexer": "ipython3",
   "version": "3.12.0"
  }
 },
 "nbformat": 4,
 "nbformat_minor": 5
}
